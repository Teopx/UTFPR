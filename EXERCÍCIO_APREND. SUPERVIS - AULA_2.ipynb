{
  "nbformat": 4,
  "nbformat_minor": 0,
  "metadata": {
    "colab": {
      "provenance": [],
      "authorship_tag": "ABX9TyOScn0pKGLlBQ/nwCxErVJH",
      "include_colab_link": true
    },
    "kernelspec": {
      "name": "python3",
      "display_name": "Python 3"
    },
    "language_info": {
      "name": "python"
    }
  },
  "cells": [
    {
      "cell_type": "markdown",
      "metadata": {
        "id": "view-in-github",
        "colab_type": "text"
      },
      "source": [
        "<a href=\"https://colab.research.google.com/github/Teopx/UTFPR/blob/main/EXERC%C3%8DCIO_APREND.%20SUPERVIS%20-%20AULA_2.ipynb\" target=\"_parent\"><img src=\"https://colab.research.google.com/assets/colab-badge.svg\" alt=\"Open In Colab\"/></a>"
      ]
    },
    {
      "cell_type": "markdown",
      "source": [
        "#APRENDIZADO SUPERVISIONADO\n",
        "EXERCÍCIO - AULA 2\n",
        "\n",
        "Discente: Cléber Fernando Paixão\n",
        "\n",
        "Desenvolver um pipeline completo de aprendizado supervisionado para resolver um problema de regressão utilizando o dataset diabetes do scikit-learn."
      ],
      "metadata": {
        "id": "HmaI1CKFtqDC"
      }
    },
    {
      "cell_type": "markdown",
      "source": [
        "Carregar Bibliotecas:"
      ],
      "metadata": {
        "id": "PqdmZ_ScJCuy"
      }
    },
    {
      "cell_type": "code",
      "source": [
        "import pandas as pd\n",
        "import seaborn as sns\n",
        "import numpy as np\n",
        "import matplotlib.pyplot as plt\n",
        "\n",
        "\n",
        "from sklearn.datasets import load_diabetes\n",
        "from sklearn.model_selection import train_test_split, GridSearchCV, KFold\n",
        "from sklearn.metrics import mean_squared_error, r2_score\n",
        "from sklearn.linear_model import Ridge\n",
        "from sklearn.preprocessing import StandardScaler\n",
        "from sklearn.pipeline import Pipeline\n",
        "from sklearn.ensemble import RandomForestRegressor, GradientBoostingRegressor\n",
        "from sklearn.svm import SVR\n",
        "\n"
      ],
      "metadata": {
        "id": "KfUx7uQFJBzF"
      },
      "execution_count": 9,
      "outputs": []
    },
    {
      "cell_type": "markdown",
      "source": [
        "1. Carregue e prepare o dataset de regressão diabetes."
      ],
      "metadata": {
        "id": "v2vISTtBt91Q"
      }
    },
    {
      "cell_type": "code",
      "source": [
        "# Carregar o conjunto de dados e processa-los\n",
        "print(\"IMPORTANDO O DATASET DIABETES\")\n",
        "diabetes = load_diabetes()\n",
        "X = pd.DataFrame(diabetes.data, columns=diabetes.feature_names)\n",
        "y = pd.DataFrame(diabetes.target, columns=['target'])\n",
        "\n",
        "print(f\"Forma das features (X): {X.shape}\")\n",
        "print(f\"Forma do alvo (y): {y.shape}\")\n",
        "print(\"\\nDemonstrando as 5 primeiras linnhas das Features:\")\n",
        "print(X.head())\n",
        "print(\"\\n\" + \"=\"*80 + \"\\n\")"
      ],
      "metadata": {
        "colab": {
          "base_uri": "https://localhost:8080/",
          "height": 0
        },
        "id": "caWRZ-1CJkRS",
        "outputId": "c3fe2d22-76d3-45f4-9f03-778b168ff8fb"
      },
      "execution_count": 10,
      "outputs": [
        {
          "output_type": "stream",
          "name": "stdout",
          "text": [
            "IMPORTANDO O DATASET DIABETES\n",
            "Forma das features (X): (442, 10)\n",
            "Forma do alvo (y): (442, 1)\n",
            "\n",
            "Demonstrando as 5 primeiras linnhas das Features:\n",
            "        age       sex       bmi        bp        s1        s2        s3  \\\n",
            "0  0.038076  0.050680  0.061696  0.021872 -0.044223 -0.034821 -0.043401   \n",
            "1 -0.001882 -0.044642 -0.051474 -0.026328 -0.008449 -0.019163  0.074412   \n",
            "2  0.085299  0.050680  0.044451 -0.005670 -0.045599 -0.034194 -0.032356   \n",
            "3 -0.089063 -0.044642 -0.011595 -0.036656  0.012191  0.024991 -0.036038   \n",
            "4  0.005383 -0.044642 -0.036385  0.021872  0.003935  0.015596  0.008142   \n",
            "\n",
            "         s4        s5        s6  \n",
            "0 -0.002592  0.019907 -0.017646  \n",
            "1 -0.039493 -0.068332 -0.092204  \n",
            "2 -0.002592  0.002861 -0.025930  \n",
            "3  0.034309  0.022688 -0.009362  \n",
            "4 -0.002592 -0.031988 -0.046641  \n",
            "\n",
            "================================================================================\n",
            "\n"
          ]
        }
      ]
    },
    {
      "cell_type": "markdown",
      "source": [
        "2. Divida os dados em treino e teste."
      ],
      "metadata": {
        "id": "vKecOHlEuC1s"
      }
    },
    {
      "cell_type": "code",
      "source": [
        "# Realizando a divisão por TREINO e TESTE:\n",
        "\n",
        "print(\"Processando a divisão de dados (treino e teste)\")\n",
        "X_train, X_test, y_train, y_test = train_test_split(X, y, test_size=0.2, random_state=42)\n",
        "print(f\"Forma do X_train: {X_train.shape}\")\n",
        "print(f\"Forma do X_test: {X_test.shape}\")\n",
        "print(f\"Forma do y_train: {y_train.shape}\")\n",
        "print(f\"Forma do y_test: {y_test.shape}\")\n",
        "print(\"\\n\" + \"=\"*80 + \"\\n\")\n"
      ],
      "metadata": {
        "id": "Hc7zLxTWuLx0",
        "colab": {
          "base_uri": "https://localhost:8080/",
          "height": 0
        },
        "outputId": "f4b035ce-52e2-41f9-a067-c1ae2f899a98"
      },
      "execution_count": 11,
      "outputs": [
        {
          "output_type": "stream",
          "name": "stdout",
          "text": [
            "Processando a divisão de dados (treino e teste)\n",
            "Forma do X_train: (353, 10)\n",
            "Forma do X_test: (89, 10)\n",
            "Forma do y_train: (353, 1)\n",
            "Forma do y_test: (89, 1)\n",
            "\n",
            "================================================================================\n",
            "\n"
          ]
        }
      ]
    },
    {
      "cell_type": "markdown",
      "source": [
        "3. Utilize um conjunto de modelos de regressão (ex: RandomForestRegressor, SVR, Ridge, GradientBoostingRegressor)."
      ],
      "metadata": {
        "id": "Kqu6Xdf8uMPA"
      }
    },
    {
      "cell_type": "code",
      "source": [
        "# Aplicando conjunto de Modelos de Regressão:\n",
        "\n",
        "models_params = [\n",
        "    {\n",
        "        'name': 'RandomForestRegressor',\n",
        "        'pipeline': Pipeline([('scaler', StandardScaler()), ('regressor', RandomForestRegressor(random_state=42))]),\n",
        "        'params': {\n",
        "            'regressor__n_estimators': [50, 100, 200],\n",
        "            'regressor__max_depth': [None, 10, 20]\n",
        "        }\n",
        "    },\n",
        "    {\n",
        "        'name': 'SVR',\n",
        "        'pipeline': Pipeline([('scaler', StandardScaler()), ('regressor', SVR())]),\n",
        "        'params': {\n",
        "            'regressor__C': [0.1, 1.0, 10.0],\n",
        "            'regressor__kernel': ['linear', 'rbf']\n",
        "        }\n",
        "    },\n",
        "    {\n",
        "        'name': 'Ridge',\n",
        "        'pipeline': Pipeline([('scaler', StandardScaler()), ('regressor', Ridge(random_state=42))]),\n",
        "        'params': {\n",
        "            'regressor__alpha': [0.1, 1.0, 10.0]\n",
        "        }\n",
        "    },\n",
        "    {\n",
        "        'name': 'GradientBoostingRegressor',\n",
        "        'pipeline': Pipeline([('scaler', StandardScaler()), ('regressor', GradientBoostingRegressor(random_state=42))]),\n",
        "        'params': {\n",
        "            'regressor__n_estimators': [50, 100, 200],\n",
        "            'regressor__learning_rate': [0.01, 0.1, 0.2]\n",
        "        }\n",
        "    }\n",
        "]\n"
      ],
      "metadata": {
        "id": "eoWuEsQGuOoS"
      },
      "execution_count": 12,
      "outputs": []
    },
    {
      "cell_type": "markdown",
      "source": [
        "4. Para cada modelo: ○ Defina um conjunto de hiperparâmetros a serem otimizados. ○ Use GridSearchCV com validação cruzada (K-Fold com n_splits=5) para encontrar os melhores hiperparâmetros. ○ Avalie o desempenho médio em termos de erro quadrático médio (RMSE) com desvio padrão."
      ],
      "metadata": {
        "id": "mP0tBVeLtbYe"
      }
    },
    {
      "cell_type": "code",
      "source": [
        "# Análise cruzada por Kfold:\n",
        "\n",
        "cv = KFold(n_splits=5, shuffle=True, random_state=42)\n",
        "\n",
        "# Armazenar cada modelo:\n",
        "results_df = pd.DataFrame(columns=['MODELO', 'RMSE MÉDIO', 'DESVIO PADRÃO RMSE', '↑ MELHORES HIPERPARÂMETROS'])\n",
        "best_model = None\n",
        "lowest_rmse = float('inf')\n",
        "best_model_name = \"\"\n",
        "\n",
        "print(\"Melhoria dos modelos utilizando o GridSearchCV ---\")\n",
        "for model_info in models_params:\n",
        "    print(f\"\\nTreinando e melhorando: {model_info['name']}\")\n",
        "\n",
        "    grid_search = GridSearchCV(\n",
        "        estimator=model_info['pipeline'],\n",
        "        param_grid=model_info['params'],\n",
        "        cv=cv,\n",
        "        scoring='neg_mean_squared_error', # GridSearchCV minimiza, então usamos o negativo do MSE\n",
        "        n_jobs=-1, # Usa todos os núcleos da CPU\n",
        "        verbose=0\n",
        "    )\n",
        "\n",
        "    # Aplicando ajuste no GridSearchCV\n",
        "    grid_search.fit(X_train, y_train.values.ravel()) # .ravel() para evitar warning com y_train como coluna\n",
        "\n",
        "    best_rmse = np.sqrt(-grid_search.best_score_) # Determina que o negativo do MSE vá para RMSE\n",
        "    std_rmse = np.sqrt(grid_search.cv_results_['std_test_score'][grid_search.best_index_])\n",
        "\n",
        "    print(f\"   ↑ Melhores Hiperparâmetros: {grid_search.best_params_}\")\n",
        "    print(f\"   RMSE Médio (5-Fold CV): {best_rmse:.4f} (+/- {std_rmse:.4f})\")\n",
        "\n"
      ],
      "metadata": {
        "id": "wqgdkGQAuT2f",
        "colab": {
          "base_uri": "https://localhost:8080/",
          "height": 0
        },
        "outputId": "57bd39a4-daad-439a-d2fa-20f395a74ea0"
      },
      "execution_count": 34,
      "outputs": [
        {
          "output_type": "stream",
          "name": "stdout",
          "text": [
            "Melhoria dos modelos utilizando o GridSearchCV ---\n",
            "\n",
            "Treinando e melhorando: RandomForestRegressor\n",
            "   ↑ Melhores Hiperparâmetros: {'regressor__max_depth': 10, 'regressor__n_estimators': 200}\n",
            "   RMSE Médio (5-Fold CV): 58.9402 (+/- 15.2373)\n",
            "\n",
            "Treinando e melhorando: SVR\n",
            "   ↑ Melhores Hiperparâmetros: {'regressor__C': 1.0, 'regressor__kernel': 'linear'}\n",
            "   RMSE Médio (5-Fold CV): 55.7245 (+/- 15.8421)\n",
            "\n",
            "Treinando e melhorando: Ridge\n",
            "   ↑ Melhores Hiperparâmetros: {'regressor__alpha': 1.0}\n",
            "   RMSE Médio (5-Fold CV): 55.4250 (+/- 16.3223)\n",
            "\n",
            "Treinando e melhorando: GradientBoostingRegressor\n",
            "   ↑ Melhores Hiperparâmetros: {'regressor__learning_rate': 0.1, 'regressor__n_estimators': 50}\n",
            "   RMSE Médio (5-Fold CV): 60.0707 (+/- 15.6442)\n"
          ]
        }
      ]
    },
    {
      "cell_type": "markdown",
      "source": [
        "5. Identifique o modelo com melhor desempenho."
      ],
      "metadata": {
        "id": "kLIyRJbxtivD"
      }
    },
    {
      "cell_type": "code",
      "source": [
        "# Revelando os resultados de melhor desempenho:\n",
        "\n",
        "best_rmse = np.sqrt(-grid_search.best_score_) # Determina que o negativo do MSE vá para RMSE\n",
        "std_rmse = np.sqrt(grid_search.cv_results_['std_test_score'][grid_search.best_index_])\n",
        "\n",
        "print(f\"  ↑ Melhores Hiperparâmetros: {grid_search.best_params_}\")\n",
        "print(f\"  RMSE Médio (5-Fold CV): {best_rmse:.4f} (+/- {std_rmse:.4f})\")\n",
        "\n",
        "# Resultados armazenados:\n",
        "new_row = pd.DataFrame([{\n",
        "        'MODELO': model_info['name'],\n",
        "        'RMSE MÉDIO': best_rmse,\n",
        "        'Desvio Padrão RMSE': std_rmse,\n",
        "        '↑ MELHORES HIPERPARÂMETROS': grid_search.best_params_\n",
        "        }])\n",
        "results_df = pd.concat([results_df, new_row], ignore_index=True)\n",
        "\n",
        "# Destacando o melhor modelo:\n",
        "if best_rmse < lowest_rmse:\n",
        "        lowest_rmse = best_rmse\n",
        "        best_model = grid_search.best_estimator_\n",
        "        best_model_name = model_info['name']\n",
        "\n",
        "print(\"\\n\" + \"=\"*80 + \"\\n\")\n",
        "\n",
        "# Revelando o melhor modelo com melhor desempenho.\n",
        "print(\"Visualizando o Modelo com Melhor Desempenho\")\n",
        "print(f\"O modelo com melhor desempenho médio (menor RMSE) é: {best_model_name}\")\n",
        "print(f\"RMSE do melhor modelo (médio CV): {lowest_rmse:.4f}\")\n",
        "print(\"\\n\" + \"=\"*80 + \"\\n\")"
      ],
      "metadata": {
        "colab": {
          "base_uri": "https://localhost:8080/",
          "height": 0
        },
        "id": "GgVoyGKGtvlb",
        "outputId": "c06a6893-6a7d-4b56-f420-5be59e1ce036"
      },
      "execution_count": 36,
      "outputs": [
        {
          "output_type": "stream",
          "name": "stdout",
          "text": [
            "  ↑ Melhores Hiperparâmetros: {'regressor__learning_rate': 0.1, 'regressor__n_estimators': 50}\n",
            "  RMSE Médio (5-Fold CV): 60.0707 (+/- 15.6442)\n",
            "\n",
            "================================================================================\n",
            "\n",
            "Visualizando o Modelo com Melhor Desempenho\n",
            "O modelo com melhor desempenho médio (menor RMSE) é: GradientBoostingRegressor\n",
            "RMSE do melhor modelo (médio CV): 60.0707\n",
            "\n",
            "================================================================================\n",
            "\n"
          ]
        }
      ]
    },
    {
      "cell_type": "markdown",
      "source": [
        "6. Faça uma previsão no conjunto de teste e plote os valores reais vs. previstos."
      ],
      "metadata": {
        "id": "tRpc0NtLtnWn"
      }
    },
    {
      "cell_type": "code",
      "source": [
        "if best_model:\n",
        "    y_pred = best_model.predict(X_test)\n",
        "    test_rmse = np.sqrt(mean_squared_error(y_test, y_pred))\n",
        "    test_r2 = r2_score(y_test, y_pred)\n",
        "\n",
        "    print(f\"Desempenho do {best_model_name} no conjunto de teste:\")\n",
        "    print(f\"  RMSE no Teste: {test_rmse:.4f}\")\n",
        "    print(f\"  R2 no Teste: {test_r2:.4f}\")\n",
        "\n"
      ],
      "metadata": {
        "colab": {
          "base_uri": "https://localhost:8080/",
          "height": 0
        },
        "id": "iSmt2Vaktv_N",
        "outputId": "8e24e692-0bfd-4b5e-fa86-56529139148c"
      },
      "execution_count": 38,
      "outputs": [
        {
          "output_type": "stream",
          "name": "stdout",
          "text": [
            "Desempenho do GradientBoostingRegressor no conjunto de teste:\n",
            "  RMSE no Teste: 53.3818\n",
            "  R2 no Teste: 0.4621\n"
          ]
        }
      ]
    },
    {
      "cell_type": "markdown",
      "source": [
        "7. Apresente os resultados em duas visualizações: ○ Uma tabela com RMSE médio e desvio padrão de cada modelo. ○ Um gráfico comparando os valores reais e previstos do melhor modelo"
      ],
      "metadata": {
        "id": "9S8Wkv93tm8L"
      }
    },
    {
      "cell_type": "code",
      "source": [
        "print(\"--- 7. Apresentando os Resultados ---\")\n",
        "\n",
        "## Tabela com RMSE Médio e Desvio Padrão\n",
        "print(\"\\nTabela de Desempenho dos Modelos (RMSE Médio e Desvio Padrão - 5-Fold CV):\")\n",
        "print(results_df.round(4).to_string(index=False)) # Usar to_string para melhor formatação no console\n",
        "\n",
        "if best_model:\n",
        "    y_pred = best_model.predict(X_test)\n",
        "    test_rmse = np.sqrt(mean_squared_error(y_test, y_pred))\n",
        "    test_r2 = r2_score(y_test, y_pred)\n",
        "    plt.figure(figsize=(10, 7))\n",
        "    sns.scatterplot(x=y_test.values.ravel(), y=y_pred, alpha=0.7)\n",
        "    plt.plot([y_test.min().min(), y_test.max().max()], [y_test.min().min(), y_test.max().max()], 'r--', lw=2) # Linha ideal\n",
        "    plt.title(f'Valores Reais vs. Previstos para {best_model_name} (Conjunto de Teste)')\n",
        "    plt.xlabel('Valores Reais')\n",
        "    plt.ylabel('Valores Previstos')\n",
        "    plt.grid(True, linestyle='--', alpha=0.6)\n",
        "    plt.show()\n",
        "else:\n",
        "    print(\"Nenhum modelo foi treinado com sucesso.\")\n",
        "\n",
        "print(\"\\n\" + \"=\"*80 + \"\\n\")\n",
        "\n",
        "print(\"\\nAnálise de desempenho realizada com sucesso!\")"
      ],
      "metadata": {
        "colab": {
          "base_uri": "https://localhost:8080/",
          "height": 832
        },
        "id": "ONU95xGTtwbk",
        "outputId": "273c76fb-bdef-4807-86df-dd3665f8e7d4"
      },
      "execution_count": 39,
      "outputs": [
        {
          "output_type": "stream",
          "name": "stdout",
          "text": [
            "--- 7. Apresentando os Resultados ---\n",
            "\n",
            "Tabela de Desempenho dos Modelos (RMSE Médio e Desvio Padrão - 5-Fold CV):\n",
            "                   MODELO  RMSE MÉDIO DESVIO PADRÃO RMSE                                       ↑ MELHORES HIPERPARÂMETROS  Desvio Padrão RMSE\n",
            "GradientBoostingRegressor     60.0707                NaN {'regressor__learning_rate': 0.1, 'regressor__n_estimators': 50}             15.6442\n",
            "GradientBoostingRegressor     60.0707                NaN {'regressor__learning_rate': 0.1, 'regressor__n_estimators': 50}             15.6442\n"
          ]
        },
        {
          "output_type": "display_data",
          "data": {
            "text/plain": [
              "<Figure size 1000x700 with 1 Axes>"
            ],
            "image/png": "[encoded data removed]"
          },
          "metadata": {}
        },
        {
          "output_type": "stream",
          "name": "stdout",
          "text": [
            "\n",
            "================================================================================\n",
            "\n",
            "\n",
            "Análise de desempenho realizada com sucesso!\n"
          ]
        }
      ]
    }
  ]
}