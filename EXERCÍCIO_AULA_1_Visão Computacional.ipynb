{
  "nbformat": 4,
  "nbformat_minor": 0,
  "metadata": {
    "colab": {
      "provenance": [],
      "authorship_tag": "ABX9TyM9aVdF4wCmc/KnOOUhLIjm",
      "include_colab_link": true
    },
    "kernelspec": {
      "name": "python3",
      "display_name": "Python 3"
    },
    "language_info": {
      "name": "python"
    }
  },
  "cells": [
    {
      "cell_type": "markdown",
      "metadata": {
        "id": "view-in-github",
        "colab_type": "text"
      },
      "source": [
        "<a href=\"https://colab.research.google.com/github/Teopx/UTFPR/blob/main/EXERC%C3%8DCIO_AULA_1_Vis%C3%A3o%20Computacional.ipynb\" target=\"_parent\"><img src=\"https://colab.research.google.com/assets/colab-badge.svg\" alt=\"Open In Colab\"/></a>"
      ]
    },
    {
      "cell_type": "markdown",
      "source": [
        "#VISÃO COMPUTACIONAL\n",
        "EXERCÍCIO - AULA 1\n",
        "\n",
        "Discente: Cléber Fernando Paixão"
      ],
      "metadata": {
        "id": "HmaI1CKFtqDC"
      }
    },
    {
      "cell_type": "markdown",
      "source": [
        "Carregar Bibliotecas:"
      ],
      "metadata": {
        "id": "PqdmZ_ScJCuy"
      }
    },
    {
      "cell_type": "code",
      "source": [
        "import pandas as pd\n",
        "import numpy as np\n",
        "from sklearn.model_selection import GridSearchCV, StratifiedKFold\n",
        "from sklearn.preprocessing import StandardScaler, LabelEncoder\n",
        "from sklearn.pipeline import Pipeline\n",
        "from sklearn.linear_model import LogisticRegression\n",
        "from sklearn.svm import SVC\n",
        "from sklearn.neighbors import KNeighborsClassifier\n",
        "from sklearn.ensemble import RandomForestClassifier, GradientBoostingClassifier\n",
        "from sklearn.naive_bayes import GaussianNB"
      ],
      "metadata": {
        "id": "KfUx7uQFJBzF"
      },
      "execution_count": 22,
      "outputs": []
    },
    {
      "cell_type": "markdown",
      "source": [
        "a) Carregue o conjunto de dados de câncer de mama (load_breast_cancer)."
      ],
      "metadata": {
        "id": "v2vISTtBt91Q"
      }
    },
    {
      "cell_type": "code",
      "source": [
        "# Carregar o conjunto de dados e processa-los\n",
        "data_file = '/content/wdbc.data'\n",
        "names_file = '/content/wdbc.names'\n",
        "\n",
        "# definição do nome das colunas:\n",
        "column_names = [\n",
        "    'ID', 'Diagnosis',\n",
        "    'radius_mean', 'texture_mean', 'perimeter_mean', 'area_mean', 'smoothness_mean',\n",
        "    'compactness_mean', 'concavity_mean', 'concave points_mean', 'symmetry_mean', 'fractal_dimension_mean',\n",
        "    'radius_se', 'texture_se', 'perimeter_se', 'area_se', 'smoothness_se',\n",
        "    'compactness_se', 'concavity_se', 'concave points_se', 'symmetry_se', 'fractal_dimension_se',\n",
        "    'radius_worst', 'texture_worst', 'perimeter_worst', 'area_worst', 'smoothness_worst',\n",
        "    'compactness_worst', 'concavity_worst', 'concave points_worst', 'symmetry_worst', 'fractal_dimension_worst'\n",
        "]\n",
        "\n",
        "try:\n",
        "    data_df = pd.read_csv(data_file, header=None, names=column_names)\n",
        "    print(f\"Arquivo '{data_file}' processado.\")\n",
        "except FileNotFoundError:\n",
        "    print(f\"Erro: Arquivo '{data_file}' não encontrado.\")\n",
        "    exit() # Erro! Arquivo não encontrado.\n",
        "\n",
        "# Exibir as primeiras linhas do dataframe carregado:\n",
        "print(\"\\n--- Dados Carregados (primeiras 5 linhas) ---\")\n",
        "print(data_df.head())"
      ],
      "metadata": {
        "colab": {
          "base_uri": "https://localhost:8080/"
        },
        "id": "caWRZ-1CJkRS",
        "outputId": "bfb048ed-3114-4e34-c758-2a88554d02ae"
      },
      "execution_count": 23,
      "outputs": [
        {
          "output_type": "stream",
          "name": "stdout",
          "text": [
            "Arquivo '/content/wdbc.data' carregado com sucesso.\n",
            "\n",
            "--- Dados Carregados (primeiras 5 linhas) ---\n",
            "         ID Diagnosis  radius_mean  texture_mean  perimeter_mean  area_mean  \\\n",
            "0    842302         M        17.99         10.38          122.80     1001.0   \n",
            "1    842517         M        20.57         17.77          132.90     1326.0   \n",
            "2  84300903         M        19.69         21.25          130.00     1203.0   \n",
            "3  84348301         M        11.42         20.38           77.58      386.1   \n",
            "4  84358402         M        20.29         14.34          135.10     1297.0   \n",
            "\n",
            "   smoothness_mean  compactness_mean  concavity_mean  concave points_mean  \\\n",
            "0          0.11840           0.27760          0.3001              0.14710   \n",
            "1          0.08474           0.07864          0.0869              0.07017   \n",
            "2          0.10960           0.15990          0.1974              0.12790   \n",
            "3          0.14250           0.28390          0.2414              0.10520   \n",
            "4          0.10030           0.13280          0.1980              0.10430   \n",
            "\n",
            "   ...  radius_worst  texture_worst  perimeter_worst  area_worst  \\\n",
            "0  ...         25.38          17.33           184.60      2019.0   \n",
            "1  ...         24.99          23.41           158.80      1956.0   \n",
            "2  ...         23.57          25.53           152.50      1709.0   \n",
            "3  ...         14.91          26.50            98.87       567.7   \n",
            "4  ...         22.54          16.67           152.20      1575.0   \n",
            "\n",
            "   smoothness_worst  compactness_worst  concavity_worst  concave points_worst  \\\n",
            "0            0.1622             0.6656           0.7119                0.2654   \n",
            "1            0.1238             0.1866           0.2416                0.1860   \n",
            "2            0.1444             0.4245           0.4504                0.2430   \n",
            "3            0.2098             0.8663           0.6869                0.2575   \n",
            "4            0.1374             0.2050           0.4000                0.1625   \n",
            "\n",
            "   symmetry_worst  fractal_dimension_worst  \n",
            "0          0.4601                  0.11890  \n",
            "1          0.2750                  0.08902  \n",
            "2          0.3613                  0.08758  \n",
            "3          0.6638                  0.17300  \n",
            "4          0.2364                  0.07678  \n",
            "\n",
            "[5 rows x 32 columns]\n"
          ]
        }
      ]
    },
    {
      "cell_type": "markdown",
      "source": [
        "b) Para cada classificador, crie um pipeline com StandardScaler (quando necessário) e o classificador."
      ],
      "metadata": {
        "id": "vKecOHlEuC1s"
      }
    },
    {
      "cell_type": "code",
      "source": [
        "# Realizando a separação das features (X) e o alvo (y)\n",
        "X = data_df.drop(columns=['ID', 'Diagnosis'])\n",
        "y = data_df['Diagnosis']\n",
        "\n",
        "# Alterar a referência, onde  (M=Maligno, B=Benigno) para campo numérico ( Benigno será 0; Maligno será 1)\n",
        "\n",
        "le = LabelEncoder()\n",
        "y = le.fit_transform(y)\n",
        "print(f\"\\nAlteração de classe feita: {le.classes_} -> {np.unique(y)}\")\n",
        "\n",
        "print(f\"\\nFeatures alteradas (X): {X.shape}\")\n",
        "print(f\"Alvos alterados (y): {y.shape}\")\n",
        "print(\"\\n\" + \"=\"*80 + \"\\n\")\n",
        "\n"
      ],
      "metadata": {
        "id": "Hc7zLxTWuLx0",
        "colab": {
          "base_uri": "https://localhost:8080/"
        },
        "outputId": "8a9afb5c-602f-4915-e1f7-5c04f52aff60"
      },
      "execution_count": 28,
      "outputs": [
        {
          "output_type": "stream",
          "name": "stdout",
          "text": [
            "\n",
            "Alteração de classe feita: ['B' 'M'] -> [0 1]\n",
            "\n",
            "Features alteradas (X): (569, 30)\n",
            "Alvos alterados (y): (569,)\n",
            "\n",
            "================================================================================\n",
            "\n"
          ]
        }
      ]
    },
    {
      "cell_type": "markdown",
      "source": [
        "c) Utilize GridSearchCV com validação cruzada estratificada (StratifiedKFold) com 10 dobras\n",
        "\n",
        "d) Avalie e imprima os melhores hiperparâmetros encontrados e a acurácia média para cada modelo."
      ],
      "metadata": {
        "id": "Kqu6Xdf8uMPA"
      }
    },
    {
      "cell_type": "code",
      "source": [
        "# Primeiro definir os hiperparâmetros e os modelos. Separar as acurácias conforme modelo proposto na tarefa 1:\n",
        "\n",
        "models_params = [\n",
        "    {\n",
        "        'name': 'LogisticRegression',\n",
        "        'pipeline': Pipeline([('scaler', StandardScaler()), ('clf', LogisticRegression(random_state=42))]),\n",
        "        'params': {\n",
        "            'clf__C': [0.1, 1.0, 10.0],\n",
        "            'clf__solver': ['liblinear', 'lbfgs']\n",
        "        }\n",
        "    },\n",
        "    {\n",
        "        'name': 'SVC',\n",
        "        'pipeline': Pipeline([('scaler', StandardScaler()), ('clf', SVC(random_state=42))]),\n",
        "        'params': {\n",
        "            'clf__C': [0.1, 1.0, 10.0],\n",
        "            'clf__kernel': ['linear', 'rbf']\n",
        "        }\n",
        "    },\n",
        "    {\n",
        "        'name': 'KNeighborsClassifier',\n",
        "        'pipeline': Pipeline([('scaler', StandardScaler()), ('clf', KNeighborsClassifier())]),\n",
        "        'params': {\n",
        "            'clf__n_neighbors': [3, 5, 7],\n",
        "            'clf__weights': ['uniform', 'distance']\n",
        "        }\n",
        "    },\n",
        "    {\n",
        "        'name': 'RandomForestClassifier',\n",
        "        'pipeline': Pipeline([('clf', RandomForestClassifier(random_state=42))]),\n",
        "        'params': {\n",
        "            'clf__n_estimators': [50, 100, 200],\n",
        "            'clf__max_depth': [None, 10, 20]\n",
        "        }\n",
        "    },\n",
        "    {\n",
        "        'name': 'GradientBoostingClassifier',\n",
        "        'pipeline': Pipeline([('clf', GradientBoostingClassifier(random_state=42))]),\n",
        "        'params': {\n",
        "            'clf__n_estimators': [50, 100, 200],\n",
        "            'clf__learning_rate': [0.01, 0.1, 0.2]\n",
        "        }\n",
        "    },\n",
        "    {\n",
        "        'name': 'GaussianNB',\n",
        "        'pipeline': Pipeline([('scaler', StandardScaler()), ('clf', GaussianNB())]),\n",
        "        'params': {} # GaussianNB não trás a perda associada\n",
        "    }\n",
        "]"
      ],
      "metadata": {
        "id": "eoWuEsQGuOoS"
      },
      "execution_count": 25,
      "outputs": []
    },
    {
      "cell_type": "code",
      "source": [
        "# Avaliação de modelo (análise cruzada)\n",
        "# Interação dos modelos:\n",
        "\n",
        "cv = StratifiedKFold(n_splits=10, shuffle=True, random_state=42)\n",
        "\n",
        "\n",
        "print(\"Processando análise e treinamento dos modelos 1,2,3...\\n\")\n",
        "for model_info in models_params:\n",
        "    print(f\"---\")\n",
        "    print(f\"Iniciando treinamento do modelo: {model_info['name']}\")\n",
        "\n",
        "    grid_search = GridSearchCV(\n",
        "        estimator=model_info['pipeline'],\n",
        "        param_grid=model_info['params'],\n",
        "        cv=cv,\n",
        "        scoring='accuracy',\n",
        "        n_jobs=-1, # Utilizando todos os núcleos da CPU disponíveis\n",
        "        verbose=0 # Opção de poder ser ajustado para 1 ou 2 para mais detalhes durante o processo\n",
        "    )\n",
        "    grid_search.fit(X, y)\n",
        "\n",
        "    print(f\" ↑ hiperparâmetros: {grid_search.best_params_}\")\n",
        "    mean_accuracy = grid_search.cv_results_['mean_test_score'][grid_search.best_index_]\n",
        "    std_accuracy = grid_search.cv_results_['std_test_score'][grid_search.best_index_]\n",
        "    print(f\"Acurácia média (10-Fold CV): {mean_accuracy:.4f} (+/- {std_accuracy:.4f})\\n\")\n",
        "\n",
        "print(\"Comparação concluída!\")"
      ],
      "metadata": {
        "id": "wqgdkGQAuT2f",
        "colab": {
          "base_uri": "https://localhost:8080/"
        },
        "outputId": "4d17a1ed-66c0-4b44-8a34-48d2a1f65c3a"
      },
      "execution_count": 29,
      "outputs": [
        {
          "output_type": "stream",
          "name": "stdout",
          "text": [
            "Processando análise e treinamento dos modelos .1.2.3\n",
            "\n",
            "---\n",
            "Iniciando treinamento do modelo: LogisticRegression\n",
            " ↑ hiperparâmetros: {'clf__C': 0.1, 'clf__solver': 'liblinear'}\n",
            "Acurácia média (10-Fold CV): 0.9807 (+/- 0.0146)\n",
            "\n",
            "---\n",
            "Iniciando treinamento do modelo: SVC\n",
            " ↑ hiperparâmetros: {'clf__C': 10.0, 'clf__kernel': 'rbf'}\n",
            "Acurácia média (10-Fold CV): 0.9772 (+/- 0.0176)\n",
            "\n",
            "---\n",
            "Iniciando treinamento do modelo: KNeighborsClassifier\n",
            " ↑ hiperparâmetros: {'clf__n_neighbors': 5, 'clf__weights': 'uniform'}\n",
            "Acurácia média (10-Fold CV): 0.9701 (+/- 0.0176)\n",
            "\n",
            "---\n",
            "Iniciando treinamento do modelo: RandomForestClassifier\n",
            " ↑ hiperparâmetros: {'clf__max_depth': None, 'clf__n_estimators': 100}\n",
            "Acurácia média (10-Fold CV): 0.9561 (+/- 0.0239)\n",
            "\n",
            "---\n",
            "Iniciando treinamento do modelo: GradientBoostingClassifier\n",
            " ↑ hiperparâmetros: {'clf__learning_rate': 0.2, 'clf__n_estimators': 200}\n",
            "Acurácia média (10-Fold CV): 0.9667 (+/- 0.0241)\n",
            "\n",
            "---\n",
            "Iniciando treinamento do modelo: GaussianNB\n",
            " ↑ hiperparâmetros: {}\n",
            "Acurácia média (10-Fold CV): 0.9315 (+/- 0.0308)\n",
            "\n",
            "Comparação concluída!\n"
          ]
        }
      ]
    }
  ]
}