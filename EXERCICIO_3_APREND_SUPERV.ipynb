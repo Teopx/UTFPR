{
  "cells": [
    {
      "cell_type": "markdown",
      "metadata": {
        "id": "view-in-github",
        "colab_type": "text"
      },
      "source": [
        "<a href=\"https://colab.research.google.com/github/Teopx/UTFPR/blob/main/EXERCICIO_3_APREND_SUPERV.ipynb\" target=\"_parent\"><img src=\"https://colab.research.google.com/assets/colab-badge.svg\" alt=\"Open In Colab\"/></a>"
      ]
    },
    {
      "cell_type": "markdown",
      "source": [
        "# EXERCÍCIO AULA 3 - ENSEMBLE LEARNING\n",
        "\n",
        "**Discente:**Cléber Fernando Paixão\n",
        "\n",
        "**Objetivo:** Desenvolver um pipeline completo de aprendizado supervisionado utilizando ensemble learning para resolver um problema de regressão utilizando o dataset diabetes ou california_housing do scikit-learn.\n",
        "\n",
        "**Descrição do Problema:** Utilize ao menos três tipos diferentes de ensemble learning"
      ],
      "metadata": {
        "id": "FGM4mGGXZWp2"
      }
    },
    {
      "cell_type": "markdown",
      "source": [
        "**Tarefa:**\n",
        " Implemente um pipeline de aprendizado de máquina que:\n",
        "\n",
        " 1. Carregue e prepare o dataset de regressão diabetes ou california_housing."
      ],
      "metadata": {
        "id": "7j4mVSebaI8S"
      }
    },
    {
      "cell_type": "code",
      "source": [
        "import numpy as np\n",
        "import matplotlib.pyplot as plt\n",
        "from sklearn.ensemble import RandomForestRegressor, GradientBoostingRegressor, VotingRegressor, BaggingRegressor, StackingRegressor\n",
        "from sklearn.svm import SVR\n",
        "from sklearn.datasets import fetch_california_housing\n",
        "from sklearn.model_selection import train_test_split, GridSearchCV, KFold\n",
        "from sklearn.preprocessing import StandardScaler\n",
        "from sklearn.linear_model import Ridge\n",
        "from sklearn.metrics import mean_squared_error"
      ],
      "metadata": {
        "id": "poFQUOOtZf4K"
      },
      "execution_count": 13,
      "outputs": []
    },
    {
      "cell_type": "code",
      "source": [
        "# Importando o arquivo California Housing por sklearn:\n",
        "housing = fetch_california_housing()\n",
        "X, y = housing.data, housing.target\n",
        "print(\"carregando dataset!\")"
      ],
      "metadata": {
        "id": "_9GmiCVIaH3u",
        "outputId": "6376f719-ae51-48e8-a1fe-b883c1dbbe19",
        "colab": {
          "base_uri": "https://localhost:8080/",
          "height": 0
        }
      },
      "execution_count": 14,
      "outputs": [
        {
          "output_type": "stream",
          "name": "stdout",
          "text": [
            "carregando dataset!\n"
          ]
        }
      ]
    },
    {
      "cell_type": "code",
      "source": [
        "# Normalizar dados:\n",
        "scaler = StandardScaler()\n",
        "X_scaled = scaler.fit_transform(X)\n",
        "\n",
        "print(f\"Formandoo os dados de entrada (X): {X_scaled.shape}\")\n",
        "print(f\"Formando os rótulos (y): {y.shape}\")"
      ],
      "metadata": {
        "id": "5k908mB6ci6D",
        "colab": {
          "base_uri": "https://localhost:8080/",
          "height": 0
        },
        "outputId": "b2744f35-5f45-4f3c-b224-bd37a41d806a"
      },
      "execution_count": 10,
      "outputs": [
        {
          "output_type": "stream",
          "name": "stdout",
          "text": [
            "Formandoo os dados de entrada (X): (20640, 8)\n",
            "Formando os rótulos (y): (20640,)\n"
          ]
        }
      ]
    },
    {
      "cell_type": "markdown",
      "source": [
        "2. Divida os dados em treino e teste."
      ],
      "metadata": {
        "id": "PDby9C0MdWUV"
      }
    },
    {
      "cell_type": "code",
      "source": [
        "# Dividindo os dados em \"Treino\" e \"Teste\"\n",
        "X_train, X_test, y_train, y_test = train_test_split(X_scaled, y, test_size=0.2, random_state=42)\n",
        "print(f\"Totalizaçaõ dos dados de treino: {X_train.shape[0]}\")\n",
        "print(f\"Totalização dos dados de teste: {X_test.shape[0]}\")\n",
        "\n",
        "# Definir a validação cruzada (diferentes combinações)\n",
        "cv = KFold(n_splits=5, shuffle=True, random_state=42)\n",
        "\n",
        "# Dicionário dos melhores estimadores e seus resultados\n",
        "best_estimators = {}"
      ],
      "metadata": {
        "colab": {
          "base_uri": "https://localhost:8080/",
          "height": 0
        },
        "id": "tWqBAJFhdZGJ",
        "outputId": "c8117afb-ca48-4b81-8c72-2fde07fa1403"
      },
      "execution_count": 15,
      "outputs": [
        {
          "output_type": "stream",
          "name": "stdout",
          "text": [
            "Totalizaçaõ dos dados de treino: 16512\n",
            "Totalização dos dados de teste: 4128\n"
          ]
        }
      ]
    },
    {
      "cell_type": "markdown",
      "source": [
        "3. Utilize um conjunto de modelos de regressão *(ex: RandomForestRegressor, SVR, Ridge, GradientBoostingRegressor).*\n",
        "\n",
        "4. Para cada modelo: ○ Defina um conjunto de hiperparâmetros a serem otimizados. ○ Use GridSearchCV com validação cruzada (K-Fold com n_splits=5) para encontrar os melhores hiperparâmetros."
      ],
      "metadata": {
        "id": "VHT6cgJcd6dd"
      }
    },
    {
      "cell_type": "code",
      "source": [
        "# RandomForestRegressor com GridSearchCV para fazer a validação cruzada usando o (K-Fold com n_splits=5) para encontrar os melhores hiperparâmetros.:\n",
        "print(\"\\nOtimização\")\n",
        "param_grid_rf = {\n",
        "    'n_estimators': [100, 200],\n",
        "    'max_features': [0.6, 0.8],\n",
        "    'min_samples_leaf': [1, 2]\n",
        "}\n",
        "rf = RandomForestRegressor(random_state=42)\n",
        "grid_search_rf = GridSearchCV(rf, param_grid_rf, cv=cv, scoring='neg_mean_squared_error', n_jobs=-1, verbose=1)\n",
        "grid_search_rf.fit(X_train, y_train)\n",
        "best_estimators['RandomForest'] = grid_search_rf.best_estimator_\n",
        "print(f\"Seleção dos melhores hiperparâmetros RandomForest: {grid_search_rf.best_params_}\")\n",
        "print(f\"Melhor treino selecionado para RandomForest: {-grid_search_rf.best_score_:.4f}\")"
      ],
      "metadata": {
        "colab": {
          "base_uri": "https://localhost:8080/",
          "height": 0
        },
        "id": "xH1BixhHhNLK",
        "outputId": "8539b776-d82a-4c33-df7c-9de6af49d199"
      },
      "execution_count": 16,
      "outputs": [
        {
          "output_type": "stream",
          "name": "stdout",
          "text": [
            "\n",
            "Otimização\n",
            "Fitting 5 folds for each of 8 candidates, totalling 40 fits\n",
            "Seleção dos melhores hiperparâmetros RandomForest: {'max_features': 0.6, 'min_samples_leaf': 1, 'n_estimators': 200}\n",
            "Melhor treino selecionado para RandomForest: 0.2491\n"
          ]
        }
      ]
    },
    {
      "cell_type": "code",
      "source": [
        "# SVR com GridSearchCV para fazer a validação cruzada usando o (K-Fold com n_splits=5) para encontrar os melhores hiperparâmetros.:\n",
        "print(\"\\nOtimização\")\n",
        "param_grid_svr = {\n",
        "    'C': [0.1, 1, 10],\n",
        "    'epsilon': [0.01, 0.1, 0.5]\n",
        "}\n",
        "svr = SVR()\n",
        "grid_search_svr = GridSearchCV(svr, param_grid_svr, cv=cv, scoring='neg_mean_squared_error', n_jobs=-1, verbose=1)\n",
        "grid_search_svr.fit(X_train, y_train)\n",
        "best_estimators['SVR'] = grid_search_svr.best_estimator_\n",
        "print(f\"Seleção dos melhores hiperparâmetros SVR: {grid_search_svr.best_params_}\")\n",
        "print(f\"Melhor treino selecionado para  SVR: {-grid_search_svr.best_score_:.4f}\")\n"
      ],
      "metadata": {
        "colab": {
          "base_uri": "https://localhost:8080/",
          "height": 0
        },
        "id": "EHn5MkeAhRWK",
        "outputId": "e993e8a8-ef24-4e7d-ff98-b387799693c0"
      },
      "execution_count": 17,
      "outputs": [
        {
          "output_type": "stream",
          "name": "stdout",
          "text": [
            "\n",
            "Otimização\n",
            "Fitting 5 folds for each of 9 candidates, totalling 45 fits\n",
            "Seleção dos melhores hiperparâmetros SVR: {'C': 10, 'epsilon': 0.1}\n",
            "Melhor treino selecionado para  SVR: 0.3214\n"
          ]
        }
      ]
    },
    {
      "cell_type": "code",
      "source": [
        "# Ridge com GridSearchCV para fazer a validação cruzada usando o (K-Fold com n_splits=5) para encontrar os melhores hiperparâmetros.:\n",
        "print(\"\\nOtimização\")\n",
        "param_grid_ridge = {\n",
        "    'alpha': [0.1, 1.0, 10.0]\n",
        "}\n",
        "ridge = Ridge(random_state=42)\n",
        "grid_search_ridge = GridSearchCV(ridge, param_grid_ridge, cv=cv, scoring='neg_mean_squared_error', n_jobs=-1, verbose=1)\n",
        "grid_search_ridge.fit(X_train, y_train)\n",
        "best_estimators['Ridge'] = grid_search_ridge.best_estimator_\n",
        "print(f\"Seleção dos melhores hiperparâmetros  Ridge: {grid_search_ridge.best_params_}\")\n",
        "print(f\"Melhor treino selecionado para Ridge: {-grid_search_ridge.best_score_:.4f}\")\n",
        "\n"
      ],
      "metadata": {
        "colab": {
          "base_uri": "https://localhost:8080/",
          "height": 0
        },
        "id": "_6xnwjFQd9x9",
        "outputId": "3b5382e9-8253-46e3-ab63-3deeda36f9f2"
      },
      "execution_count": 18,
      "outputs": [
        {
          "output_type": "stream",
          "name": "stdout",
          "text": [
            "\n",
            "Otimização\n",
            "Fitting 5 folds for each of 3 candidates, totalling 15 fits\n",
            "Seleção dos melhores hiperparâmetros  Ridge: {'alpha': 1.0}\n",
            "Melhor treino selecionado para Ridge: 0.5193\n"
          ]
        }
      ]
    },
    {
      "cell_type": "code",
      "source": [
        "# GradientBoostingRegressor com GridSearchCV para fazer a validação cruzada usando o (K-Fold com n_splits=5) para encontrar os melhores hiperparâmetros.:\n",
        "print(\"\\nOtimização\")\n",
        "param_grid_gbr = {\n",
        "    'n_estimators': [100, 200],\n",
        "    'learning_rate': [0.05, 0.1],\n",
        "    'max_depth': [3, 5]\n",
        "}\n",
        "gbr = GradientBoostingRegressor(random_state=42)\n",
        "grid_search_gbr = GridSearchCV(gbr, param_grid_gbr, cv=cv, scoring='neg_mean_squared_error', n_jobs=-1, verbose=1)\n",
        "grid_search_gbr.fit(X_train, y_train)\n",
        "best_estimators['GradientBoosting'] = grid_search_gbr.best_estimator_\n",
        "print(f\"Seleção dos melhores hiperparâmetros GradientBoosting: {grid_search_gbr.best_params_}\")\n",
        "print(f\"Melhor treino selecionado para GradientBoosting: {-grid_search_gbr.best_score_:.4f}\")\n",
        "\n"
      ],
      "metadata": {
        "colab": {
          "base_uri": "https://localhost:8080/",
          "height": 0
        },
        "id": "tK92iAjdhd54",
        "outputId": "5ac3b788-c2c8-4bc9-ca9c-d1dc8f9cd9f3"
      },
      "execution_count": 19,
      "outputs": [
        {
          "output_type": "stream",
          "name": "stdout",
          "text": [
            "\n",
            "Otimização\n",
            "Fitting 5 folds for each of 8 candidates, totalling 40 fits\n",
            "Seleção dos melhores hiperparâmetros GradientBoosting: {'learning_rate': 0.1, 'max_depth': 5, 'n_estimators': 200}\n",
            "Melhor treino selecionado para GradientBoosting: 0.2258\n"
          ]
        }
      ]
    },
    {
      "cell_type": "markdown",
      "source": [
        "5. Aplicando o *Ensemble Learning* com as três técnicas: *voting*, *bagging* e *stacking*"
      ],
      "metadata": {
        "id": "8qqKsfVljmF3"
      }
    },
    {
      "cell_type": "code",
      "source": [
        "print(\"\\nIncorporando ao código fonte o Ensemble Learning\")\n",
        "\n",
        "# Seleção dos modelos base utilizados:\n",
        "rf_model = best_estimators['RandomForest']\n",
        "svr_model = best_estimators['SVR']\n",
        "ridge_model = best_estimators['Ridge']\n",
        "gbr_model = best_estimators['GradientBoosting'] # Novo modelo otimizado\n",
        "\n",
        "# Técnica: Voting Regressor com os 4 modelos:\n",
        "print(\"\\nTreinando o VotingRegressor\")\n",
        "voting_reg = VotingRegressor(\n",
        "    estimators=[('rf', rf_model), ('svr', svr_model), ('ridge', ridge_model), ('gbr', gbr_model)],\n",
        "    n_jobs=-1\n",
        ")\n",
        "voting_reg.fit(X_train, y_train)\n",
        "print(\"Treino do VotingRegressor finalizado!\")\n",
        "\n",
        "# Bagging Regressor (usando RandomForest como estimador base)\n",
        "print(\"\\nTreinando o BaggingRegressor com o RandomForest\")\n",
        "bagging_reg = BaggingRegressor(\n",
        "    estimator=rf_model, # com o RandomForest otimizado\n",
        "    n_estimators=10,\n",
        "    max_samples=1.0,\n",
        "    max_features=1.0,\n",
        "    random_state=42,\n",
        "    n_jobs=-1\n",
        ")\n",
        "bagging_reg.fit(X_train, y_train)\n",
        "print(\"Treino do BaggingRegressor finalizado!\")\n",
        "\n",
        "# Stacking Regressor (agora com 4 modelos no estágio 0)\n",
        "print(\"\\nTreinando o StackingRegressor\")\n",
        "# O meta-modelo pode ser qualquer regressor, por exemplo, um Ridge ou RandomForest\n",
        "stacking_reg = StackingRegressor(\n",
        "    estimators=[('rf', rf_model), ('svr', svr_model), ('ridge', ridge_model), ('gbr', gbr_model)],\n",
        "    final_estimator=Ridge(random_state=42), # Meta-modelo\n",
        "    cv=cv,\n",
        "    n_jobs=-1\n",
        ")\n",
        "stacking_reg.fit(X_train, y_train)\n",
        "print(\"Treino do StackingRegressor finalizado!\")"
      ],
      "metadata": {
        "colab": {
          "base_uri": "https://localhost:8080/",
          "height": 0
        },
        "id": "W9YDE530kbqZ",
        "outputId": "849958d6-b46c-40aa-a277-2dbf7b47d190"
      },
      "execution_count": 20,
      "outputs": [
        {
          "output_type": "stream",
          "name": "stdout",
          "text": [
            "\n",
            "Incorporando ao código fonte o Ensemble Learning\n",
            "\n",
            "Treinando o VotingRegressor\n",
            "Treino do VotingRegressor finalizado!\n",
            "\n",
            "Treinando o BaggingRegressor com o RandomForest!\n",
            "Treino do BaggingRegressor finalizado!\n",
            "\n",
            "Treinando o StackingRegressor\n"
          ]
        },
        {
          "output_type": "stream",
          "name": "stderr",
          "text": [
            "/usr/local/lib/python3.11/dist-packages/joblib/externals/loky/process_executor.py:782: UserWarning: A worker stopped while some jobs were given to the executor. This can be caused by a too short worker timeout or by a memory leak.\n",
            "  warnings.warn(\n"
          ]
        },
        {
          "output_type": "stream",
          "name": "stdout",
          "text": [
            "Treino do StackingRegressor finalizado!\n"
          ]
        }
      ]
    },
    {
      "cell_type": "markdown",
      "source": [
        "6. Avalie numericamente e/ou graficamente o desempenho das três técnicas de ensemble learning para o problema de regressão.\n",
        "\n",
        "7. Dica: você pode avaliar o erro do regressor utilizando o erro quadrático médio normalizado. Para isso basta dividir o RMSE pela variância dos rótulos do dataset."
      ],
      "metadata": {
        "id": "pzvuQRVImDPQ"
      }
    },
    {
      "cell_type": "code",
      "source": [
        "print(\"\\nAvaliação de desempenho dos modelos Ensemble learning:\")\n",
        "\n",
        "def calculate_nrmse(y_true, y_pred):\n",
        "    rmse = np.sqrt(mean_squared_error(y_true, y_pred))\n",
        "    variance = np.var(y_true)\n",
        "    if variance == 0:\n",
        "        return float('inf')\n",
        "    nrmse = rmse / np.sqrt(variance)\n",
        "    return nrmse\n",
        "\n",
        "# Processando e avaliando o Voting Regressor:\n",
        "y_pred_voting = voting_reg.predict(X_test)\n",
        "rmse_voting = np.sqrt(mean_squared_error(y_test, y_pred_voting))\n",
        "nrmse_voting = calculate_nrmse(y_test, y_pred_voting)\n",
        "print(f\"\\n--- Resultados VotingRegressor ---\")\n",
        "print(f\"RMSE: {rmse_voting:.4f}\")\n",
        "print(f\"NRMSE: {nrmse_voting:.4f}\")\n",
        "\n",
        "# Processando e avaliando o Bagging Regressor:\n",
        "y_pred_bagging = bagging_reg.predict(X_test)\n",
        "rmse_bagging = np.sqrt(mean_squared_error(y_test, y_pred_bagging))\n",
        "nrmse_bagging = calculate_nrmse(y_test, y_pred_bagging)\n",
        "print(f\"\\n--- Resultados BaggingRegressor ---\")\n",
        "print(f\"RMSE: {rmse_bagging:.4f}\")\n",
        "print(f\"NRMSE: {nrmse_bagging:.4f}\")\n",
        "\n",
        "# Processando e avaliando o Stacking Regressor:\n",
        "y_pred_stacking = stacking_reg.predict(X_test)\n",
        "rmse_stacking = np.sqrt(mean_squared_error(y_test, y_pred_stacking))\n",
        "nrmse_stacking = calculate_nrmse(y_test, y_pred_stacking)\n",
        "print(f\"\\n--- Resultados StackingRegressor ---\")\n",
        "print(f\"RMSE: {rmse_stacking:.4f}\")\n",
        "print(f\"NRMSE: {nrmse_stacking:.4f}\")"
      ],
      "metadata": {
        "colab": {
          "base_uri": "https://localhost:8080/",
          "height": 0
        },
        "id": "704StWk7mENd",
        "outputId": "fa7cd7ae-844a-4291-9c5f-2e0b92cd2a9d"
      },
      "execution_count": 21,
      "outputs": [
        {
          "output_type": "stream",
          "name": "stdout",
          "text": [
            "\n",
            "Avaliação de desempenho dos modelos Ensemble learning:\n",
            "\n",
            "--- Resultados VotingRegressor ---\n",
            "RMSE: 0.5241\n",
            "NRMSE: 0.4579\n",
            "\n",
            "--- Resultados BaggingRegressor ---\n",
            "RMSE: 0.5084\n",
            "NRMSE: 0.4441\n",
            "\n",
            "--- Resultados StackingRegressor ---\n",
            "RMSE: 0.4691\n",
            "NRMSE: 0.4098\n"
          ]
        }
      ]
    },
    {
      "cell_type": "code",
      "source": [
        "# Demonstração gráfica dos resultados comparados:\n",
        "labels = ['Voting', 'Bagging', 'Stacking']\n",
        "rmse_values = [rmse_voting, rmse_bagging, rmse_stacking]\n",
        "nrmse_values = [nrmse_voting, nrmse_bagging, nrmse_stacking]\n",
        "\n",
        "x = np.arange(len(labels))\n",
        "width = 0.35\n",
        "\n",
        "fig, ax = plt.subplots(1, 2, figsize=(14, 6))\n",
        "\n",
        "# Gráfico [RMSE]\n",
        "rects1 = ax[0].bar(x, rmse_values, width, label='RMSE')\n",
        "ax[0].set_ylabel('RMSE')\n",
        "ax[0].set_title('Comparação de RMSE entre Ensembles')\n",
        "ax[0].set_xticks(x)\n",
        "ax[0].set_xticklabels(labels)\n",
        "ax[0].legend()\n",
        "ax[0].grid(axis='y', linestyle='--')\n",
        "\n",
        "# Gráfico [NRMSE]\n",
        "rects2 = ax[1].bar(x, nrmse_values, width, label='NRMSE', color='orange')\n",
        "ax[1].set_ylabel('NRMSE')\n",
        "ax[1].set_title('Comparação de NRMSE entre Ensembles')\n",
        "ax[1].set_xticks(x)\n",
        "ax[1].set_xticklabels(labels)\n",
        "ax[1].legend()\n",
        "ax[1].grid(axis='y', linestyle='--')\n",
        "\n",
        "plt.tight_layout()\n",
        "plt.show()\n",
        "\n",
        "print(\"\\nResultado de desempenho dos modelos usados como base no conjunto de teste:\")\n",
        "for name, estimator in best_estimators.items():\n",
        "    y_pred_base = estimator.predict(X_test)\n",
        "    rmse_base = np.sqrt(mean_squared_error(y_test, y_pred_base))\n",
        "    nrmse_base = calculate_nrmse(y_test, y_pred_base)\n",
        "    print(f\"{name} - RMSE: {rmse_base:.4f}, NRMSE: {nrmse_base:.4f}\")"
      ],
      "metadata": {
        "colab": {
          "base_uri": "https://localhost:8080/",
          "height": 711
        },
        "id": "tQpmhdq7m6Jz",
        "outputId": "43d13ac8-4b00-416f-dd08-424edd1b10d2"
      },
      "execution_count": 22,
      "outputs": [
        {
          "output_type": "display_data",
          "data": {
            "text/plain": [
              "<Figure size 1400x600 with 2 Axes>"
            ],
            "image/png": "[encoded data removed]"
          },
          "metadata": {}
        },
        {
          "output_type": "stream",
          "name": "stdout",
          "text": [
            "\n",
            "Resultado de desempenho dos modelos usados como base no conjunto de teste:\n",
            "RandomForest - RMSE: 0.4971, NRMSE: 0.4343\n",
            "SVR - RMSE: 0.5672, NRMSE: 0.4955\n",
            "Ridge - RMSE: 0.7456, NRMSE: 0.6513\n",
            "GradientBoosting - RMSE: 0.4736, NRMSE: 0.4137\n"
          ]
        }
      ]
    }
  ],
  "metadata": {
    "colab": {
      "provenance": [],
      "include_colab_link": true
    },
    "kernelspec": {
      "display_name": "Python 3",
      "name": "python3"
    }
  },
  "nbformat": 4,
  "nbformat_minor": 0
}